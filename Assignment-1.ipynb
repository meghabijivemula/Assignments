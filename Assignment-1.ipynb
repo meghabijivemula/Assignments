{
 "cells": [
  {
   "cell_type": "markdown",
   "id": "ae1d6cbc",
   "metadata": {},
   "source": [
    "#### Q1 What are the characteristics of the tuples? Is tuple immutable?\n",
    "Tuples are very similar to Lists, they hold collection of items(heterogenous). However, they are immutable."
   ]
  },
  {
   "cell_type": "markdown",
   "id": "66ecc4d6",
   "metadata": {},
   "source": [
    "#### Q2 What are the two tuple methods in python? Give an example of each method. Give a reason why tuples have only two in-built methods as compared to Lists.\n",
    "Count and Index are the two methods for tuples. \n",
    "Index - gives the index at which the value occurs in the tuple\n",
    "Count - gives the number of time the value occurs in the tuple\n",
    "As tuples are immutable unlike lists, the operations that can be performed on tuples are limited."
   ]
  },
  {
   "cell_type": "code",
   "execution_count": 5,
   "id": "367e75c9",
   "metadata": {},
   "outputs": [
    {
     "data": {
      "text/plain": [
       "3"
      ]
     },
     "execution_count": 5,
     "metadata": {},
     "output_type": "execute_result"
    }
   ],
   "source": [
    "t = (1,2,3,4,5,1,1)\n",
    "type(t)\n",
    "print(t.index(1))\n",
    "print(t.count(1))"
   ]
  },
  {
   "cell_type": "markdown",
   "id": "4925483e",
   "metadata": {},
   "source": [
    "#### Q3 Which collection datatypes in python do not allow duplicate items? Write a code using a set to remove duplicates from the given list.\n",
    "Sets do not hold duplicates. "
   ]
  },
  {
   "cell_type": "code",
   "execution_count": 12,
   "id": "34e7f764",
   "metadata": {},
   "outputs": [
    {
     "data": {
      "text/plain": [
       "{1, 2, 3, 4}"
      ]
     },
     "execution_count": 12,
     "metadata": {},
     "output_type": "execute_result"
    }
   ],
   "source": [
    "List = [1, 1, 1, 2, 1, 3, 1, 4, 2, 1, 2, 2, 2, 3, 2, 4, 3, 1, 3, 2, 3, 3, 3, 4, 4, 1, 4, 2, 4, 3, 4, 4]\n",
    "s = set(List)\n",
    "s"
   ]
  },
  {
   "cell_type": "markdown",
   "id": "19b69c7c",
   "metadata": {},
   "source": [
    "#### Q4 Explain the difference between the union() and update() methods for a set. Give an example of each method.\n",
    "Union method creates a new set and adds all the elements to the new set however, update just update the set by adding the elements to the same set."
   ]
  },
  {
   "cell_type": "code",
   "execution_count": 13,
   "id": "a98c6127",
   "metadata": {},
   "outputs": [
    {
     "data": {
      "text/plain": [
       "{1, 2, 3, 4, 5, 11, 33, 44, 55}"
      ]
     },
     "execution_count": 13,
     "metadata": {},
     "output_type": "execute_result"
    }
   ],
   "source": [
    "m = {1,11,3,33,4,44,5,55}\n",
    "ms = m.union(s)\n",
    "ms"
   ]
  },
  {
   "cell_type": "code",
   "execution_count": 14,
   "id": "6a2c9509",
   "metadata": {},
   "outputs": [
    {
     "data": {
      "text/plain": [
       "{1, 2, 3, 4, 5, 11, 33, 44, 55}"
      ]
     },
     "execution_count": 14,
     "metadata": {},
     "output_type": "execute_result"
    }
   ],
   "source": [
    "m.update(s)\n",
    "m"
   ]
  },
  {
   "cell_type": "markdown",
   "id": "9902170b",
   "metadata": {},
   "source": [
    "#### Q5 What is a dictionary? Give an example. Also, state whether a dictionary is ordered or unordered.\n",
    "Dictionary stores a collection of key-value pairs. Dictionaries are unordered"
   ]
  },
  {
   "cell_type": "code",
   "execution_count": 16,
   "id": "1a6bf804",
   "metadata": {},
   "outputs": [
    {
     "data": {
      "text/plain": [
       "dict"
      ]
     },
     "execution_count": 16,
     "metadata": {},
     "output_type": "execute_result"
    }
   ],
   "source": [
    "d = {\"Redbull\" : [\"Max\",\"Checo\"], \"Alpha Tauri\" : [\"Dan\", \"Yuki\"]}\n",
    "type(d)"
   ]
  },
  {
   "cell_type": "markdown",
   "id": "f96abdf3",
   "metadata": {},
   "source": [
    "#### Q6 Can we create a nested dictionary? If so, please give an example by creating a simple one-level nested dictionary.\n"
   ]
  },
  {
   "cell_type": "code",
   "execution_count": 19,
   "id": "097ebf50",
   "metadata": {},
   "outputs": [],
   "source": [
    "driver = {\"Max\" : {\"ToroRosso\" : 2015, \"Redbull\" : 2023}, \n",
    "          \"Dan\" : {\"ToroRoso\" : 2013, \"Redbull\" : 2018, \"Renault\" :2020, \"McLaren\":2022, \"AlphaTauri\":2023}}"
   ]
  },
  {
   "cell_type": "markdown",
   "id": "c3af95dd",
   "metadata": {},
   "source": [
    "#### Q7 Using setdefault() method, create key named topics in the given dictionary and also add the value of the key as this list ['Python', 'Machine Learning’, 'Deep Learning']"
   ]
  },
  {
   "cell_type": "code",
   "execution_count": 2,
   "id": "2cf2f841",
   "metadata": {},
   "outputs": [
    {
     "data": {
      "text/plain": [
       "{'language': 'Python',\n",
       " 'course': 'Data Science Masters',\n",
       " 'topics': ['Python', 'Machine Learning', 'Deep Learning']}"
      ]
     },
     "execution_count": 2,
     "metadata": {},
     "output_type": "execute_result"
    }
   ],
   "source": [
    "dict1 = {'language' : 'Python', 'course': 'Data Science Masters'}\n",
    "dict1.setdefault('topics', ['Python', 'Machine Learning', 'Deep Learning'])\n",
    "dict1"
   ]
  },
  {
   "cell_type": "markdown",
   "id": "339d9be8",
   "metadata": {},
   "source": [
    "#### Q8 What are the three view objects in dictionaries? Use the three in-built methods in python to display these three view objects for the given dictionary.\n",
    "\n",
    "The three view objects in dictionaries are :\n",
    "1. keys\n",
    "2. values\n",
    "3. items"
   ]
  },
  {
   "cell_type": "code",
   "execution_count": 9,
   "id": "e8adfa1a",
   "metadata": {},
   "outputs": [
    {
     "name": "stdout",
     "output_type": "stream",
     "text": [
      "Keys: dict_keys(['Sport', 'Teams'])\n",
      "Values: dict_values(['Cricket', ['India', 'Australia', 'England', 'South Africa', 'Sri Lanka', 'New Zealand']])\n",
      "Items: dict_items([('Sport', 'Cricket'), ('Teams', ['India', 'Australia', 'England', 'South Africa', 'Sri Lanka', 'New Zealand'])])\n"
     ]
    }
   ],
   "source": [
    "dict_1 = {'Sport': 'Cricket' , 'Teams': ['India', 'Australia', 'England', 'South Africa', 'Sri Lanka', 'New Zealand']}\n",
    "\n",
    "print('Keys:', dict_1.keys())\n",
    "print('Values:', dict_1.values())\n",
    "print('Items:', dict_1.items())"
   ]
  }
 ],
 "metadata": {
  "kernelspec": {
   "display_name": "Python 3 (ipykernel)",
   "language": "python",
   "name": "python3"
  },
  "language_info": {
   "codemirror_mode": {
    "name": "ipython",
    "version": 3
   },
   "file_extension": ".py",
   "mimetype": "text/x-python",
   "name": "python",
   "nbconvert_exporter": "python",
   "pygments_lexer": "ipython3",
   "version": "3.10.9"
  }
 },
 "nbformat": 4,
 "nbformat_minor": 5
}
